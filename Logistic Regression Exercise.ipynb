{
 "cells": [
  {
   "cell_type": "code",
   "execution_count": 2,
   "id": "84a0d64f",
   "metadata": {},
   "outputs": [],
   "source": [
    "import numpy as np\n",
    "import pandas as pd\n",
    "import matplotlib.pyplot as plt"
   ]
  },
  {
   "cell_type": "code",
   "execution_count": 3,
   "id": "d96d716d",
   "metadata": {},
   "outputs": [],
   "source": [
    "dataset=pd.read_csv('Social_Network_Ads.csv')\n",
    "X=dataset.iloc[:,:-1].values\n",
    "y=dataset.iloc[:,-1].values"
   ]
  },
  {
   "cell_type": "code",
   "execution_count": 4,
   "id": "1c4fe288",
   "metadata": {},
   "outputs": [],
   "source": [
    "from sklearn.model_selection import train_test_split\n",
    "X_train,X_test,y_train,y_test=train_test_split(X,y,test_size=0.25,random_state=1)"
   ]
  },
  {
   "cell_type": "code",
   "execution_count": 5,
   "id": "0b2039d2",
   "metadata": {},
   "outputs": [
    {
     "name": "stdout",
     "output_type": "stream",
     "text": [
      "[[    36  33000]\n",
      " [    39  61000]\n",
      " [    36 118000]\n",
      " [    39 122000]\n",
      " [    26 118000]\n",
      " [    38  65000]\n",
      " [    20  36000]\n",
      " [    49  89000]\n",
      " [    31  18000]\n",
      " [    48 141000]\n",
      " [    34  72000]\n",
      " [    39  73000]\n",
      " [    35  72000]\n",
      " [    48 131000]\n",
      " [    53  82000]\n",
      " [    56 133000]\n",
      " [    60  83000]\n",
      " [    27  58000]\n",
      " [    28  87000]\n",
      " [    60 102000]\n",
      " [    40  75000]\n",
      " [    50  88000]\n",
      " [    44 139000]\n",
      " [    47  43000]\n",
      " [    45  26000]\n",
      " [    26  15000]\n",
      " [    58  47000]\n",
      " [    49  74000]\n",
      " [    53  34000]\n",
      " [    52 114000]\n",
      " [    39  42000]\n",
      " [    19  76000]\n",
      " [    18  86000]\n",
      " [    57  74000]\n",
      " [    27  84000]\n",
      " [    30  80000]\n",
      " [    22  18000]\n",
      " [    32  86000]\n",
      " [    50  20000]\n",
      " [    19  25000]\n",
      " [    47 144000]\n",
      " [    58 101000]\n",
      " [    34 115000]\n",
      " [    23  66000]\n",
      " [    56  60000]\n",
      " [    31 118000]\n",
      " [    48  35000]\n",
      " [    47 113000]\n",
      " [    39  79000]\n",
      " [    52  38000]\n",
      " [    24  58000]\n",
      " [    37  53000]\n",
      " [    42  80000]\n",
      " [    46  28000]\n",
      " [    42  73000]\n",
      " [    37  62000]\n",
      " [    60  42000]\n",
      " [    36  52000]\n",
      " [    58  95000]\n",
      " [    43 129000]\n",
      " [    27  89000]\n",
      " [    23  82000]\n",
      " [    38 112000]\n",
      " [    35  50000]\n",
      " [    36  99000]\n",
      " [    37 144000]\n",
      " [    26  35000]\n",
      " [    42  70000]\n",
      " [    43 133000]\n",
      " [    38  50000]\n",
      " [    46  96000]\n",
      " [    35  44000]\n",
      " [    38 113000]\n",
      " [    39  71000]\n",
      " [    26  52000]\n",
      " [    54 108000]\n",
      " [    33  51000]\n",
      " [    26  16000]\n",
      " [    30  87000]\n",
      " [    35  60000]\n",
      " [    29  28000]\n",
      " [    45  22000]\n",
      " [    46 117000]\n",
      " [    32  18000]\n",
      " [    22  81000]\n",
      " [    25  87000]\n",
      " [    48  33000]\n",
      " [    35  58000]\n",
      " [    47  23000]\n",
      " [    26  32000]\n",
      " [    32 135000]\n",
      " [    60  34000]\n",
      " [    52  21000]\n",
      " [    38  55000]\n",
      " [    25  90000]\n",
      " [    58  38000]\n",
      " [    49  88000]\n",
      " [    37  78000]\n",
      " [    35  77000]\n",
      " [    34  43000]]\n"
     ]
    }
   ],
   "source": [
    "print(X_test)"
   ]
  },
  {
   "cell_type": "code",
   "execution_count": 6,
   "id": "fc2599dd",
   "metadata": {},
   "outputs": [],
   "source": [
    "from sklearn.preprocessing import StandardScaler\n",
    "scaling=StandardScaler()\n",
    "X_train=scaling.fit_transform(X_train)\n",
    "X_test=scaling.transform(X_test)"
   ]
  },
  {
   "cell_type": "code",
   "execution_count": 7,
   "id": "3b19793b",
   "metadata": {},
   "outputs": [
    {
     "name": "stdout",
     "output_type": "stream",
     "text": [
      "[0 0 1 1 0 0 0 1 0 0 0 0 0 1 1 1 1 0 0 1 0 1 1 0 1 0 1 0 1 0 0 0 0 1 0 0 0\n",
      " 0 1 0 1 1 0 0 1 1 1 1 0 1 0 0 1 1 1 0 1 0 1 1 0 0 0 0 1 1 0 0 0 0 0 0 1 0\n",
      " 0 1 0 0 0 0 0 1 1 0 0 0 1 0 1 0 1 1 1 0 0 1 1 1 0 0]\n"
     ]
    }
   ],
   "source": [
    "print(y_test)"
   ]
  },
  {
   "cell_type": "code",
   "execution_count": 8,
   "id": "22a521d5",
   "metadata": {},
   "outputs": [
    {
     "data": {
      "text/plain": [
       "LogisticRegression()"
      ]
     },
     "execution_count": 8,
     "metadata": {},
     "output_type": "execute_result"
    }
   ],
   "source": [
    "from sklearn.linear_model import LogisticRegression\n",
    "LogReg=LogisticRegression()\n",
    "LogReg.fit(X_train,y_train)"
   ]
  },
  {
   "cell_type": "code",
   "execution_count": 9,
   "id": "b415337a",
   "metadata": {},
   "outputs": [
    {
     "name": "stdout",
     "output_type": "stream",
     "text": [
      "[0]\n"
     ]
    }
   ],
   "source": [
    "print(LogReg.predict(scaling.transform([[30,87000]])))"
   ]
  },
  {
   "cell_type": "code",
   "execution_count": 10,
   "id": "91e9cb14",
   "metadata": {},
   "outputs": [
    {
     "name": "stdout",
     "output_type": "stream",
     "text": [
      "[[0 0]\n",
      " [0 0]\n",
      " [1 1]\n",
      " [1 1]\n",
      " [0 0]\n",
      " [0 0]\n",
      " [0 0]\n",
      " [1 1]\n",
      " [0 0]\n",
      " [1 0]\n",
      " [0 0]\n",
      " [0 0]\n",
      " [0 0]\n",
      " [1 1]\n",
      " [1 1]\n",
      " [1 1]\n",
      " [1 1]\n",
      " [0 0]\n",
      " [0 0]\n",
      " [1 1]\n",
      " [0 0]\n",
      " [1 1]\n",
      " [1 1]\n",
      " [0 0]\n",
      " [0 1]\n",
      " [0 0]\n",
      " [1 1]\n",
      " [1 0]\n",
      " [1 1]\n",
      " [1 0]\n",
      " [0 0]\n",
      " [0 0]\n",
      " [0 0]\n",
      " [1 1]\n",
      " [0 0]\n",
      " [0 0]\n",
      " [0 0]\n",
      " [0 0]\n",
      " [0 1]\n",
      " [0 0]\n",
      " [1 1]\n",
      " [1 1]\n",
      " [0 0]\n",
      " [0 0]\n",
      " [1 1]\n",
      " [0 1]\n",
      " [0 1]\n",
      " [1 1]\n",
      " [0 0]\n",
      " [1 1]\n",
      " [0 0]\n",
      " [0 0]\n",
      " [1 1]\n",
      " [0 1]\n",
      " [0 1]\n",
      " [0 0]\n",
      " [1 1]\n",
      " [0 0]\n",
      " [1 1]\n",
      " [1 1]\n",
      " [0 0]\n",
      " [0 0]\n",
      " [1 0]\n",
      " [0 0]\n",
      " [0 1]\n",
      " [1 1]\n",
      " [0 0]\n",
      " [0 0]\n",
      " [1 0]\n",
      " [0 0]\n",
      " [1 0]\n",
      " [0 0]\n",
      " [1 1]\n",
      " [0 0]\n",
      " [0 0]\n",
      " [1 1]\n",
      " [0 0]\n",
      " [0 0]\n",
      " [0 0]\n",
      " [0 0]\n",
      " [0 0]\n",
      " [0 1]\n",
      " [1 1]\n",
      " [0 0]\n",
      " [0 0]\n",
      " [0 0]\n",
      " [0 1]\n",
      " [0 0]\n",
      " [0 1]\n",
      " [0 0]\n",
      " [1 1]\n",
      " [1 1]\n",
      " [1 1]\n",
      " [0 0]\n",
      " [0 0]\n",
      " [1 1]\n",
      " [1 1]\n",
      " [0 1]\n",
      " [0 0]\n",
      " [0 0]]\n"
     ]
    }
   ],
   "source": [
    "y_pred=LogReg.predict(X_test)\n",
    "np.set_printoptions(precision=2)\n",
    "print(np.concatenate((y_pred.reshape(len(y_pred),1),y_test.reshape(len(y_test),1)),1))"
   ]
  },
  {
   "cell_type": "code",
   "execution_count": 13,
   "id": "7246d969",
   "metadata": {},
   "outputs": [
    {
     "data": {
      "application/javascript": [
       "\n",
       "        if (window._pyforest_update_imports_cell) { window._pyforest_update_imports_cell('import seaborn as sns'); }\n",
       "    "
      ],
      "text/plain": [
       "<IPython.core.display.Javascript object>"
      ]
     },
     "metadata": {},
     "output_type": "display_data"
    },
    {
     "data": {
      "text/plain": [
       "0.83"
      ]
     },
     "execution_count": 13,
     "metadata": {},
     "output_type": "execute_result"
    },
    {
     "data": {
      "image/png": "[encoded data removed]",
      "text/plain": [
       "<Figure size 504x360 with 2 Axes>"
      ]
     },
     "metadata": {
      "needs_background": "light"
     },
     "output_type": "display_data"
    }
   ],
   "source": [
    "from sklearn.metrics import confusion_matrix,accuracy_score\n",
    "cm=confusion_matrix(y_test, y_pred,labels=[1,0])\n",
    "\n",
    "df_cm=pd.DataFrame(cm,index=[i for i in[\"1\",\"0\"]],\n",
    "                  columns=[i for i in ['Predict 1','Predict 0']])\n",
    "\n",
    "plt.figure(figsize=(7,5))\n",
    "sns.heatmap(df_cm,annot=True)\n",
    "plt.title('Heatmap')\n",
    "accuracy_score(y_test, y_pred)"
   ]
  },
  {
   "cell_type": "code",
   "execution_count": null,
   "id": "8d748eae",
   "metadata": {},
   "outputs": [],
   "source": [
    "\n"
   ]
  }
 ],
 "metadata": {
  "kernelspec": {
   "display_name": "Python 3 (ipykernel)",
   "language": "python",
   "name": "python3"
  },
  "language_info": {
   "codemirror_mode": {
    "name": "ipython",
    "version": 3
   },
   "file_extension": ".py",
   "mimetype": "text/x-python",
   "name": "python",
   "nbconvert_exporter": "python",
   "pygments_lexer": "ipython3",
   "version": "3.9.7"
  }
 },
 "nbformat": 4,
 "nbformat_minor": 5
}
