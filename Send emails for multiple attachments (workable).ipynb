{
 "cells": [
  {
   "cell_type": "code",
   "execution_count": 7,
   "id": "8ca38f35",
   "metadata": {},
   "outputs": [
    {
     "name": "stdout",
     "output_type": "stream",
     "text": [
      "Email sent out successfully\n"
     ]
    }
   ],
   "source": [
    "#If there is an authenication on prevent sending\n",
    "\n",
    "import smtplib\n",
    "from email.message import EmailMessage\n",
    "\n",
    "Title='Just sending for fun'\n",
    "Sender_name='Thng Kok Wai'\n",
    "send_from='homeworkthng@gmail.com'\n",
    "password='BenBoB9451'\n",
    "\n",
    "body='''This is my test mail.'''\n",
    "\n",
    "message=EmailMessage()\n",
    "message['Subject']=Title\n",
    "message['From']=Sender_name\n",
    "message['To']='touracos9735@gmail.com'\n",
    "message.set_content(body)\n",
    "\n",
    "server=smtplib.SMTP_SSL('smtp.gmail.com',465)\n",
    "server.ehlo()\n",
    "server.login(send_from,password)\n",
    "server.send_message(message)\n",
    "server.quit()                                     # Good practice to close after completing\n",
    "print('Email sent out successfully')"
   ]
  },
  {
   "cell_type": "code",
   "execution_count": 13,
   "id": "15cec200",
   "metadata": {},
   "outputs": [
    {
     "name": "stdout",
     "output_type": "stream",
     "text": [
      "Email sent out successfully\n"
     ]
    }
   ],
   "source": [
    "#If there is an authenication on prevent sending. Email template added\n",
    "\n",
    "import smtplib\n",
    "from email.message import EmailMessage\n",
    "\n",
    "Title='Just sending for fun'\n",
    "Sender_name='Thng Kok Wai'\n",
    "send_from='homeworkthng@gmail.com'\n",
    "password='BenBoB9451'\n",
    "\n",
    "message=EmailMessage()\n",
    "message['Subject']=Title\n",
    "message['From']=Sender_name\n",
    "message['To']='touracos9735@gmail.com'\n",
    "\n",
    "with open('EmailTemplate.txt') as myfile:\n",
    "    body=myfile.read()\n",
    "    message.set_content(body)\n",
    "\n",
    "server=smtplib.SMTP_SSL('smtp.gmail.com',465)\n",
    "server.ehlo()\n",
    "server.login(send_from,password)\n",
    "server.send_message(message)\n",
    "server.quit()                                     # Good practice to close after completing\n",
    "print('Email sent out successfully')"
   ]
  },
  {
   "cell_type": "code",
   "execution_count": 15,
   "id": "0335d397",
   "metadata": {},
   "outputs": [
    {
     "name": "stdout",
     "output_type": "stream",
     "text": [
      "Email sent out successfully\n"
     ]
    }
   ],
   "source": [
    "# Send with one attachment\n",
    "\n",
    "import smtplib\n",
    "from email.message import EmailMessage\n",
    "\n",
    "Title='Just sending for fun'\n",
    "Sender_name='Thng Kok Wai'\n",
    "send_from='homeworkthng@gmail.com'\n",
    "password='BenBoB9451'\n",
    "\n",
    "message=EmailMessage()\n",
    "message['Subject']=Title\n",
    "message['From']=Sender_name\n",
    "message['To']='touracos9735@gmail.com'\n",
    "\n",
    "# Sending the content of the email through template\n",
    "\n",
    "with open('EmailTemplate.txt') as myfile:\n",
    "    body=myfile.read()\n",
    "    message.set_content(body)\n",
    "    \n",
    "#Sending with attachment enclosed\n",
    "\n",
    "with open('Extra revision problems_student.pdf',\"rb\") as file:\n",
    "    attachment=file.read()\n",
    "    file_name=file.name\n",
    "    message.add_attachment(attachment,maintype=\"application\",subtype=\"pdf\",filename=file_name)\n",
    "    \n",
    "server=smtplib.SMTP_SSL('smtp.gmail.com',465)\n",
    "server.ehlo()\n",
    "server.login(send_from,password)\n",
    "server.send_message(message)\n",
    "server.quit()                                     # Good practice to close after completing\n",
    "print('Email sent out successfully')"
   ]
  },
  {
   "cell_type": "code",
   "execution_count": null,
   "id": "bfdaca1a",
   "metadata": {},
   "outputs": [],
   "source": [
    "# Send with multiple attachments\n",
    "\n",
    "import smtplib\n",
    "from email.message import EmailMessage\n",
    "import glob\n",
    "\n",
    "Title='Just sending for fun'\n",
    "Sender_name='Thng Kok Wai'\n",
    "send_from='homeworkthng@gmail.com'\n",
    "password='BenBoB9451'\n",
    "\n",
    "message=EmailMessage()            #Load library\n",
    "message['Subject']=Title\n",
    "message['From']=Sender_name\n",
    "message['To']= recipient\n",
    "\n",
    "# Sending the content of the email through template\n",
    "\n",
    "with open('EmailTemplate.txt') as myfile:\n",
    "    body=myfile.read()\n",
    "    message.set_content(body)\n",
    "    \n",
    "#Sending with attachment enclosed\n",
    "\n",
    "for files in glob.glob('*.pdf'):\n",
    "    with open('Extra revision problems_student.pdf',\"rb\") as file:\n",
    "        attachment=file.read()\n",
    "        file_name=file.name\n",
    "        message.add_attachment(attachment,maintype=\"application\",subtype=\"pdf\",filename=file_name)\n",
    "    \n",
    "server=smtplib.SMTP_SSL('smtp.gmail.com',465)     #Secure\n",
    "server.ehlo()\n",
    "server.login(send_from,password)\n",
    "server.send_message(message)\n",
    "server.quit()                                     # Good practice to close after completing\n",
    "print('Email sent out successfully')"
   ]
  },
  {
   "cell_type": "code",
   "execution_count": 17,
   "id": "24fe8d66",
   "metadata": {},
   "outputs": [
    {
     "data": {
      "text/html": [
       "<div>\n",
       "<style scoped>\n",
       "    .dataframe tbody tr th:only-of-type {\n",
       "        vertical-align: middle;\n",
       "    }\n",
       "\n",
       "    .dataframe tbody tr th {\n",
       "        vertical-align: top;\n",
       "    }\n",
       "\n",
       "    .dataframe thead th {\n",
       "        text-align: right;\n",
       "    }\n",
       "</style>\n",
       "<table border=\"1\" class=\"dataframe\">\n",
       "  <thead>\n",
       "    <tr style=\"text-align: right;\">\n",
       "      <th></th>\n",
       "      <th>Name</th>\n",
       "      <th>email</th>\n",
       "      <th>Message</th>\n",
       "    </tr>\n",
       "  </thead>\n",
       "  <tbody>\n",
       "    <tr>\n",
       "      <th>0</th>\n",
       "      <td>CPL Desmond</td>\n",
       "      <td>touracos9735@gmail.com</td>\n",
       "      <td>Commando, Honour to die</td>\n",
       "    </tr>\n",
       "    <tr>\n",
       "      <th>1</th>\n",
       "      <td>LCP Adrian</td>\n",
       "      <td>thngkw@gmail.com</td>\n",
       "      <td>Guardsman, Ready to die</td>\n",
       "    </tr>\n",
       "    <tr>\n",
       "      <th>2</th>\n",
       "      <td>Pte Jason</td>\n",
       "      <td>touracos9735@gmail.com</td>\n",
       "      <td>Infantryman, always die first</td>\n",
       "    </tr>\n",
       "  </tbody>\n",
       "</table>\n",
       "</div>"
      ],
      "text/plain": [
       "          Name                   email                        Message\n",
       "0  CPL Desmond  touracos9735@gmail.com        Commando, Honour to die\n",
       "1   LCP Adrian        thngkw@gmail.com        Guardsman, Ready to die\n",
       "2    Pte Jason  touracos9735@gmail.com  Infantryman, always die first"
      ]
     },
     "execution_count": 17,
     "metadata": {},
     "output_type": "execute_result"
    }
   ],
   "source": [
    "#This is connected to below block\n",
    "\n",
    "import pandas as pd\n",
    "people=pd.read_excel('address.xlsx')\n",
    "people"
   ]
  },
  {
   "cell_type": "code",
   "execution_count": 19,
   "id": "5b86e54d",
   "metadata": {},
   "outputs": [
    {
     "name": "stdout",
     "output_type": "stream",
     "text": [
      "Email sent out successfully for row 1 CPL Desmond\n",
      "Email sent out successfully for row 2 LCP Adrian\n",
      "Email sent out successfully for row 3 Pte Jason\n"
     ]
    }
   ],
   "source": [
    "# Send with multiple attachments\n",
    "\n",
    "import smtplib\n",
    "from email.message import EmailMessage\n",
    "import glob\n",
    "\n",
    "Title='POSTING FOR UNIT'\n",
    "Sender_name='Thng Kok Wai'\n",
    "send_from='homeworkthng@gmail.com'\n",
    "password='BenBoB9451'\n",
    "\n",
    "for row in people.itertuples():\n",
    "    name=row[1]\n",
    "    recipient=row[2]\n",
    "    note=row[3]\n",
    "    \n",
    "    message=EmailMessage()            #Load library\n",
    "    message['Subject']=Title\n",
    "    message['From']=Sender_name\n",
    "    message['To']= recipient\n",
    "    message['cc']=send_from\n",
    "    \n",
    "   # Write your email content here.\n",
    "    body = f'''                       \n",
    "    \n",
    "    Dear {name},\n",
    "    \n",
    "    Please find the attached documents in this email.\n",
    "    \n",
    "    You are assigned as the following vocation : {note}\n",
    "    \n",
    "    Best Regards\n",
    "    \n",
    "    Thng KW\n",
    "    Your commander\n",
    "    \n",
    "    '''\n",
    "    # Sending the content of the email through template\n",
    "\n",
    "    #with open('EmailTemplate.txt') as myfile:\n",
    "    #    body=myfile.read()\n",
    "    message.set_content(body)\n",
    "    \n",
    "#Sending with attachment enclosed   \n",
    "\n",
    "    for files in glob.glob('*.pdf'):\n",
    "        with open('Extra revision problems_student.pdf',\"rb\") as file:\n",
    "            attachment=file.read()\n",
    "            file_name=file.name\n",
    "            message.add_attachment(attachment,maintype=\"application\",subtype=\"pdf\",filename=file_name)\n",
    "    \n",
    "    for files in glob.glob('*.docx'):\n",
    "        with open('EmailTemplate.docx',\"rb\") as file:\n",
    "            attachment=file.read()\n",
    "            file_name=file.name\n",
    "            message.add_attachment(attachment,maintype=\"application\",subtype=\"docx\",filename=file_name)\n",
    "            \n",
    "    server=smtplib.SMTP_SSL('smtp.gmail.com',465)     #Secure\n",
    "    server.ehlo()\n",
    "    server.login(send_from,password)\n",
    "    server.send_message(message)\n",
    "    server.quit()                                     # Good practice to close after completing\n",
    "    print('Email sent out successfully for row '+str(row[0]+1)+\" \"+name)"
   ]
  },
  {
   "cell_type": "code",
   "execution_count": null,
   "id": "a57fc211",
   "metadata": {},
   "outputs": [],
   "source": []
  }
 ],
 "metadata": {
  "kernelspec": {
   "display_name": "Python 3 (ipykernel)",
   "language": "python",
   "name": "python3"
  },
  "language_info": {
   "codemirror_mode": {
    "name": "ipython",
    "version": 3
   },
   "file_extension": ".py",
   "mimetype": "text/x-python",
   "name": "python",
   "nbconvert_exporter": "python",
   "pygments_lexer": "ipython3",
   "version": "3.9.7"
  }
 },
 "nbformat": 4,
 "nbformat_minor": 5
}
