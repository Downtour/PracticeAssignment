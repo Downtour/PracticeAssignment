{
 "cells": [
  {
   "cell_type": "code",
   "execution_count": 1,
   "id": "17070f6c",
   "metadata": {},
   "outputs": [
    {
     "name": "stderr",
     "output_type": "stream",
     "text": [
      "C:\\Users\\TKW\\anaconda3\\lib\\site-packages\\pyglet\\image\\codecs\\wic.py:434: UserWarning: [WinError -2147417850] Cannot change thread mode after it is set\n",
      "  warnings.warn(str(err))\n"
     ]
    }
   ],
   "source": [
    "# A mini-project to create a digital clock\n",
    "\n",
    "from tkinter import *\n",
    "\n",
    "from datetime import datetime\n",
    "import pyglet\n",
    "\n",
    "back_colour=\"#313131\"\n",
    "Time_colour=\"#6AA84F\"\n",
    "digit_colour=\"#FF0000\"\n",
    "name_colour=\"#3D85C6\"\n",
    "pyglet.font.add_file('digital-7.ttf')\n",
    "\n",
    "block=Tk()\n",
    "block.title('My digital clock developed by TKW')\n",
    "block.configure(background=back_colour)\n",
    "block.geometry(\"488x288\")\n",
    "block.resizable(width=False,height=False)\n",
    "\n",
    "clock=Label(block, font=(\"digital-7 98\"), bg=back_colour, fg=Time_colour)\n",
    "clock.grid(row=2,column=1,sticky=W)\n",
    "\n",
    "day_1=Label(block, font=(\"digital-7 38\"), bg=back_colour, fg=digit_colour)\n",
    "day_1.grid(row=1,column=1,sticky=W)\n",
    "\n",
    "dat_2=Label(block, font=(\"digital-7 38\"), bg=back_colour, fg=digit_colour)\n",
    "dat_2.grid(row=3,column=1,sticky=W)\n",
    "\n",
    "name=Label(block, font=(\"digital-7 12\"), bg=back_colour, fg=name_colour)\n",
    "name.grid(row=4,column=1,sticky=W)\n",
    "\n",
    "def digital_clock():\n",
    "    \n",
    "    time=datetime.now()\n",
    "    hour=time.strftime(\"%H:%M:%S\")\n",
    "    week=time.strftime(\"%A\")\n",
    "    day=time.strftime(\"%d\")\n",
    "    month=time.strftime(\"%B\")\n",
    "    year=time.strftime(\"%Y\")\n",
    "    \n",
    "    clock.config(text=hour)\n",
    "    day_1.config(text=week)\n",
    "    dat_2.config(text=month + \",\" + str(day) + \",\" + (year))\n",
    "    name.config(text=\"Developed by Thng KW\")\n",
    "    \n",
    "    clock.after(100,digital_clock)\n",
    "\n",
    "digital_clock()\n",
    "block.mainloop()"
   ]
  },
  {
   "cell_type": "code",
   "execution_count": null,
   "id": "c8f5bed5",
   "metadata": {},
   "outputs": [],
   "source": []
  }
 ],
 "metadata": {
  "kernelspec": {
   "display_name": "Python 3 (ipykernel)",
   "language": "python",
   "name": "python3"
  },
  "language_info": {
   "codemirror_mode": {
    "name": "ipython",
    "version": 3
   },
   "file_extension": ".py",
   "mimetype": "text/x-python",
   "name": "python",
   "nbconvert_exporter": "python",
   "pygments_lexer": "ipython3",
   "version": "3.9.7"
  }
 },
 "nbformat": 4,
 "nbformat_minor": 5
}
