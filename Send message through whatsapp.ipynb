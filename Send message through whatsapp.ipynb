{
 "cells": [
  {
   "cell_type": "code",
   "execution_count": 1,
   "id": "dc33f816",
   "metadata": {},
   "outputs": [],
   "source": [
    "import pywhatkit as pwt"
   ]
  },
  {
   "cell_type": "code",
   "execution_count": 2,
   "id": "73f252f3",
   "metadata": {},
   "outputs": [
    {
     "name": "stdout",
     "output_type": "stream",
     "text": [
      "In 0 Seconds WhatsApp will open and after 8 Seconds Message will be Delivered!\n"
     ]
    }
   ],
   "source": [
    "pwt.sendwhatmsg(\"+6581061847\",'Good morning, I am sending this message through python. Thank you for your patience.',10,52,8)"
   ]
  },
  {
   "cell_type": "code",
   "execution_count": 3,
   "id": "ed707976",
   "metadata": {},
   "outputs": [
    {
     "name": "stdout",
     "output_type": "stream",
     "text": [
      "In 34 Seconds WhatsApp will open and after 8 Seconds Message will be Delivered!\n"
     ]
    }
   ],
   "source": [
    "pwt.sendwhatmsg(\"+6597892373\",\"Good morning, I am sending this message through python. Hurray. Finally know why it can't work earlier.\",10,55,8)"
   ]
  },
  {
   "cell_type": "code",
   "execution_count": 4,
   "id": "aebffa7d",
   "metadata": {},
   "outputs": [
    {
     "name": "stdout",
     "output_type": "stream",
     "text": [
      "In 32 Seconds WhatsApp will open and after 8 Seconds Message will be Delivered!\n"
     ]
    }
   ],
   "source": [
    "pwt.sendwhatmsg(\"+6597892373\",\"So next time, I can use a database to automate without individual sending.\",10,57,8)"
   ]
  },
  {
   "cell_type": "code",
   "execution_count": 2,
   "id": "c14a47b3",
   "metadata": {},
   "outputs": [
    {
     "name": "stdout",
     "output_type": "stream",
     "text": [
      "In 24 Seconds WhatsApp will open and after 8 Seconds Message will be Delivered!\n"
     ]
    }
   ],
   "source": [
    "pwt.sendwhatmsg(\"+6583216178\",\"Choong Ling Ask you to learn programming in poly Course. You need to score well in O level!\",17,23,8)"
   ]
  },
  {
   "cell_type": "code",
   "execution_count": null,
   "id": "4b800f3f",
   "metadata": {},
   "outputs": [
    {
     "name": "stdout",
     "output_type": "stream",
     "text": [
      "In 36462 Seconds WhatsApp will open and after 8 Seconds Message will be Delivered!\n"
     ]
    }
   ],
   "source": [
    "pwt.sendwhatmsg(\"+6584324980\",\"Morning JV. Order 15 kg shark fish. Delivery today. Thanks.\",7,10,8)"
   ]
  },
  {
   "cell_type": "code",
   "execution_count": null,
   "id": "0c4a52d3",
   "metadata": {},
   "outputs": [],
   "source": []
  }
 ],
 "metadata": {
  "kernelspec": {
   "display_name": "Python 3 (ipykernel)",
   "language": "python",
   "name": "python3"
  },
  "language_info": {
   "codemirror_mode": {
    "name": "ipython",
    "version": 3
   },
   "file_extension": ".py",
   "mimetype": "text/x-python",
   "name": "python",
   "nbconvert_exporter": "python",
   "pygments_lexer": "ipython3",
   "version": "3.9.7"
  }
 },
 "nbformat": 4,
 "nbformat_minor": 5
}
